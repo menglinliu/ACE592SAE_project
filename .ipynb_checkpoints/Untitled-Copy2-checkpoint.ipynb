{
 "cells": [
  {
   "cell_type": "markdown",
   "id": "b75b70eb",
   "metadata": {},
   "source": []
  },
  {
   "cell_type": "code",
   "execution_count": 1,
   "id": "a394afb3",
   "metadata": {},
   "outputs": [],
   "source": [
    "import numpy as np\n",
    "import matplotlib.pyplot as plt\n",
    "import geopandas\n",
    "import pyproj\n",
    "import rasterio\n",
    "import rasterstats\n",
    "import pandas as pd\n",
    "import json\n",
    "from rasterio.mask import mask\n",
    "from rasterio.plot import show\n",
    "import matplotlib.colors as pltc\n",
    "from matplotlib.patches import Patch\n",
    "from matplotlib.lines import Line2D\n",
    "import matplotlib\n",
    "from rasterio.warp import calculate_default_transform, reproject, Resampling\n",
    "from rasterstats import zonal_stats\n",
    "\n",
    "def getFeatures(gdf):\n",
    "    \"\"\"Function to parse features from GeoDataFrame in such a manner that rasterio wants them\"\"\"\n",
    "    import json\n",
    "    return [json.loads(gdf.to_json())['features'][0]['geometry']]"
   ]
  },
  {
   "cell_type": "code",
   "execution_count": 2,
   "id": "34971d84",
   "metadata": {},
   "outputs": [
    {
     "name": "stdout",
     "output_type": "stream",
     "text": [
      "Requirement already satisfied: pyshp in c:\\users\\mliu11\\anaconda3\\envs\\ace592\\lib\\site-packages (2.2.0)\n",
      "Note: you may need to restart the kernel to use updated packages.\n"
     ]
    }
   ],
   "source": [
    "pip install pyshp"
   ]
  },
  {
   "cell_type": "code",
   "execution_count": 3,
   "id": "0f291af9",
   "metadata": {},
   "outputs": [
    {
     "name": "stdout",
     "output_type": "stream",
     "text": [
      "Requirement already satisfied: seaborn in c:\\users\\mliu11\\anaconda3\\envs\\ace592\\lib\\site-packages (0.11.2)\n",
      "Requirement already satisfied: numpy>=1.15 in c:\\users\\mliu11\\anaconda3\\envs\\ace592\\lib\\site-packages (from seaborn) (1.22.2)\n",
      "Requirement already satisfied: matplotlib>=2.2 in c:\\users\\mliu11\\anaconda3\\envs\\ace592\\lib\\site-packages (from seaborn) (3.3.2)\n",
      "Requirement already satisfied: pandas>=0.23 in c:\\users\\mliu11\\anaconda3\\envs\\ace592\\lib\\site-packages (from seaborn) (1.1.3)\n",
      "Requirement already satisfied: scipy>=1.0 in c:\\users\\mliu11\\anaconda3\\envs\\ace592\\lib\\site-packages (from seaborn) (1.5.0)\n",
      "Requirement already satisfied: pillow>=6.2.0 in c:\\users\\mliu11\\anaconda3\\envs\\ace592\\lib\\site-packages (from matplotlib>=2.2->seaborn) (8.0.1)\n",
      "Requirement already satisfied: kiwisolver>=1.0.1 in c:\\users\\mliu11\\anaconda3\\envs\\ace592\\lib\\site-packages (from matplotlib>=2.2->seaborn) (1.3.2)\n",
      "Requirement already satisfied: certifi>=2020.06.20 in c:\\users\\mliu11\\anaconda3\\envs\\ace592\\lib\\site-packages (from matplotlib>=2.2->seaborn) (2021.10.8)\n",
      "Requirement already satisfied: cycler>=0.10 in c:\\users\\mliu11\\anaconda3\\envs\\ace592\\lib\\site-packages (from matplotlib>=2.2->seaborn) (0.11.0)\n",
      "Requirement already satisfied: pyparsing!=2.0.4,!=2.1.2,!=2.1.6,>=2.0.3 in c:\\users\\mliu11\\anaconda3\\envs\\ace592\\lib\\site-packages (from matplotlib>=2.2->seaborn) (3.0.7)\n",
      "Requirement already satisfied: python-dateutil>=2.1 in c:\\users\\mliu11\\anaconda3\\envs\\ace592\\lib\\site-packages (from matplotlib>=2.2->seaborn) (2.8.2)\n",
      "Requirement already satisfied: pytz>=2017.2 in c:\\users\\mliu11\\anaconda3\\envs\\ace592\\lib\\site-packages (from pandas>=0.23->seaborn) (2021.3)\n",
      "Requirement already satisfied: six>=1.5 in c:\\users\\mliu11\\anaconda3\\envs\\ace592\\lib\\site-packages (from python-dateutil>=2.1->matplotlib>=2.2->seaborn) (1.16.0)\n",
      "Note: you may need to restart the kernel to use updated packages.\n"
     ]
    }
   ],
   "source": [
    "pip install seaborn"
   ]
  },
  {
   "cell_type": "code",
   "execution_count": 2,
   "id": "15b61e58",
   "metadata": {},
   "outputs": [],
   "source": [
    "import shapefile as shp\n",
    "import seaborn as sns"
   ]
  },
  {
   "cell_type": "code",
   "execution_count": 6,
   "id": "37bf4936",
   "metadata": {},
   "outputs": [],
   "source": [
    "hh = shp.Reader(\"C:/Users/mliu11/Box/Spring 2022/ACE592SAE/Project data/Deforestation data/Deforestation/buffer_3km/Export_Output_2.shp\")"
   ]
  },
  {
   "cell_type": "code",
   "execution_count": 7,
   "id": "3794e8f8",
   "metadata": {},
   "outputs": [
    {
     "data": {
      "text/plain": [
       "<Geographic 2D CRS: EPSG:4326>\n",
       "Name: WGS 84\n",
       "Axis Info [ellipsoidal]:\n",
       "- Lat[north]: Geodetic latitude (degree)\n",
       "- Lon[east]: Geodetic longitude (degree)\n",
       "Area of Use:\n",
       "- name: World\n",
       "- bounds: (-180.0, -90.0, 180.0, 90.0)\n",
       "Datum: World Geodetic System 1984\n",
       "- Ellipsoid: WGS 84\n",
       "- Prime Meridian: Greenwich"
      ]
     },
     "execution_count": 7,
     "metadata": {},
     "output_type": "execute_result"
    }
   ],
   "source": [
    "hh_shp.crs"
   ]
  },
  {
   "cell_type": "code",
   "execution_count": 8,
   "id": "9856599d",
   "metadata": {},
   "outputs": [],
   "source": [
    "def read_shapefile(sf):\n",
    "    \"\"\"\n",
    "    Read a shapefile into a Pandas dataframe with a 'coords' \n",
    "    column holding the geometry information. This uses the pyshp\n",
    "    package\n",
    "    \"\"\"\n",
    "    fields = [x[0] for x in sf.fields][1:]\n",
    "    records = sf.records()\n",
    "    shps = [s.points for s in sf.shapes()]    \n",
    "    df = pd.DataFrame(columns=fields, data=records)\n",
    "    df = df.assign(coords=shps)    \n",
    "    return df"
   ]
  },
  {
   "cell_type": "code",
   "execution_count": 23,
   "id": "694b6947",
   "metadata": {},
   "outputs": [],
   "source": [
    "raster_dir_d = \"C:/Users/mliu11/Box/Spring 2022/ACE592SAE/Project data/Deforestation data/Deforestation/buffer_3km/\""
   ]
  },
  {
   "cell_type": "code",
   "execution_count": 24,
   "id": "1e5c3c6e",
   "metadata": {},
   "outputs": [],
   "source": [
    "hh_shp = geopandas.read_file(raster_dir_d+\"Export_Output_2.shp\")"
   ]
  },
  {
   "cell_type": "code",
   "execution_count": 20,
   "id": "98a9bba5",
   "metadata": {},
   "outputs": [],
   "source": [
    "rainfall_shp = geopandas.read_file(\"C:/Users/mliu11/Box/Spring 2022/ACE592SAE/Project data/rainfall shps/rainfall_15.shp\")"
   ]
  },
  {
   "cell_type": "code",
   "execution_count": null,
   "id": "d76990fb",
   "metadata": {},
   "outputs": [],
   "source": []
  },
  {
   "cell_type": "code",
   "execution_count": 9,
   "id": "4f57d521",
   "metadata": {},
   "outputs": [],
   "source": [
    "df_hh = read_shapefile(hh)"
   ]
  },
  {
   "cell_type": "code",
   "execution_count": 10,
   "id": "a12c4cdc",
   "metadata": {},
   "outputs": [
    {
     "data": {
      "text/html": [
       "<div>\n",
       "<style scoped>\n",
       "    .dataframe tbody tr th:only-of-type {\n",
       "        vertical-align: middle;\n",
       "    }\n",
       "\n",
       "    .dataframe tbody tr th {\n",
       "        vertical-align: top;\n",
       "    }\n",
       "\n",
       "    .dataframe thead th {\n",
       "        text-align: right;\n",
       "    }\n",
       "</style>\n",
       "<table border=\"1\" class=\"dataframe\">\n",
       "  <thead>\n",
       "    <tr style=\"text-align: right;\">\n",
       "      <th></th>\n",
       "      <th>OBJECTID</th>\n",
       "      <th>HHID</th>\n",
       "      <th>latitude</th>\n",
       "      <th>longitude</th>\n",
       "      <th>BUFF_DIST</th>\n",
       "      <th>ORIG_FID</th>\n",
       "      <th>Shape_Leng</th>\n",
       "      <th>Shape_Area</th>\n",
       "      <th>coords</th>\n",
       "    </tr>\n",
       "  </thead>\n",
       "  <tbody>\n",
       "    <tr>\n",
       "      <th>0</th>\n",
       "      <td>1</td>\n",
       "      <td>40113014.0</td>\n",
       "      <td>-8.8090</td>\n",
       "      <td>31.533300</td>\n",
       "      <td>3.0</td>\n",
       "      <td>0</td>\n",
       "      <td>0.170864</td>\n",
       "      <td>0.002323</td>\n",
       "      <td>[(31.53329999969526, -8.781875285016326), (31....</td>\n",
       "    </tr>\n",
       "    <tr>\n",
       "      <th>1</th>\n",
       "      <td>2</td>\n",
       "      <td>40113010.0</td>\n",
       "      <td>-8.8098</td>\n",
       "      <td>31.532700</td>\n",
       "      <td>3.0</td>\n",
       "      <td>1</td>\n",
       "      <td>0.170864</td>\n",
       "      <td>0.002323</td>\n",
       "      <td>[(31.532699999905105, -8.782675285935625), (31...</td>\n",
       "    </tr>\n",
       "    <tr>\n",
       "      <th>2</th>\n",
       "      <td>3</td>\n",
       "      <td>40113017.0</td>\n",
       "      <td>-8.8106</td>\n",
       "      <td>31.537701</td>\n",
       "      <td>3.0</td>\n",
       "      <td>2</td>\n",
       "      <td>0.170865</td>\n",
       "      <td>0.002323</td>\n",
       "      <td>[(31.537701000300956, -8.7834752877543), (31.5...</td>\n",
       "    </tr>\n",
       "    <tr>\n",
       "      <th>3</th>\n",
       "      <td>4</td>\n",
       "      <td>40113011.0</td>\n",
       "      <td>-8.8108</td>\n",
       "      <td>31.538401</td>\n",
       "      <td>3.0</td>\n",
       "      <td>3</td>\n",
       "      <td>0.170865</td>\n",
       "      <td>0.002323</td>\n",
       "      <td>[(31.538401000206022, -8.783675287984124), (31...</td>\n",
       "    </tr>\n",
       "    <tr>\n",
       "      <th>4</th>\n",
       "      <td>5</td>\n",
       "      <td>40113013.0</td>\n",
       "      <td>-8.8115</td>\n",
       "      <td>31.535500</td>\n",
       "      <td>3.0</td>\n",
       "      <td>4</td>\n",
       "      <td>0.170865</td>\n",
       "      <td>0.002323</td>\n",
       "      <td>[(31.535500000424747, -8.78437528878851), (31....</td>\n",
       "    </tr>\n",
       "  </tbody>\n",
       "</table>\n",
       "</div>"
      ],
      "text/plain": [
       "   OBJECTID        HHID  latitude  longitude  BUFF_DIST  ORIG_FID  Shape_Leng  \\\n",
       "0         1  40113014.0   -8.8090  31.533300        3.0         0    0.170864   \n",
       "1         2  40113010.0   -8.8098  31.532700        3.0         1    0.170864   \n",
       "2         3  40113017.0   -8.8106  31.537701        3.0         2    0.170865   \n",
       "3         4  40113011.0   -8.8108  31.538401        3.0         3    0.170865   \n",
       "4         5  40113013.0   -8.8115  31.535500        3.0         4    0.170865   \n",
       "\n",
       "   Shape_Area                                             coords  \n",
       "0    0.002323  [(31.53329999969526, -8.781875285016326), (31....  \n",
       "1    0.002323  [(31.532699999905105, -8.782675285935625), (31...  \n",
       "2    0.002323  [(31.537701000300956, -8.7834752877543), (31.5...  \n",
       "3    0.002323  [(31.538401000206022, -8.783675287984124), (31...  \n",
       "4    0.002323  [(31.535500000424747, -8.78437528878851), (31....  "
      ]
     },
     "execution_count": 10,
     "metadata": {},
     "output_type": "execute_result"
    }
   ],
   "source": [
    "df_hh.head()"
   ]
  },
  {
   "cell_type": "code",
   "execution_count": 19,
   "id": "a6374ab9",
   "metadata": {},
   "outputs": [],
   "source": [
    "data_dir = \"C:/Users/mliu11/Box/Spring 2022/ACE592SAE/Project data/\""
   ]
  },
  {
   "cell_type": "code",
   "execution_count": 20,
   "id": "dcbde5ca",
   "metadata": {},
   "outputs": [],
   "source": [
    "countries = geopandas.read_file(data_dir + \"countries.geojson\")"
   ]
  },
  {
   "cell_type": "code",
   "execution_count": 21,
   "id": "1573d819",
   "metadata": {},
   "outputs": [
    {
     "data": {
      "text/plain": [
       "<Geographic 2D CRS: EPSG:4326>\n",
       "Name: WGS 84\n",
       "Axis Info [ellipsoidal]:\n",
       "- Lat[north]: Geodetic latitude (degree)\n",
       "- Lon[east]: Geodetic longitude (degree)\n",
       "Area of Use:\n",
       "- name: World\n",
       "- bounds: (-180.0, -90.0, 180.0, 90.0)\n",
       "Datum: World Geodetic System 1984\n",
       "- Ellipsoid: WGS 84\n",
       "- Prime Meridian: Greenwich"
      ]
     },
     "execution_count": 21,
     "metadata": {},
     "output_type": "execute_result"
    }
   ],
   "source": [
    "countries.crs"
   ]
  },
  {
   "cell_type": "code",
   "execution_count": 22,
   "id": "807c0c5a",
   "metadata": {},
   "outputs": [
    {
     "data": {
      "text/plain": [
       "True"
      ]
     },
     "execution_count": 22,
     "metadata": {},
     "output_type": "execute_result"
    }
   ],
   "source": [
    "countries.crs == deforest_zambia.crs"
   ]
  },
  {
   "cell_type": "code",
   "execution_count": 25,
   "id": "fbcf855f",
   "metadata": {},
   "outputs": [],
   "source": [
    "zambia_shp = countries[countries[\"ADMIN\"]== \"Zambia\"]"
   ]
  },
  {
   "cell_type": "code",
   "execution_count": 127,
   "id": "da029405",
   "metadata": {},
   "outputs": [
    {
     "data": {
      "text/html": [
       "<div>\n",
       "<style scoped>\n",
       "    .dataframe tbody tr th:only-of-type {\n",
       "        vertical-align: middle;\n",
       "    }\n",
       "\n",
       "    .dataframe tbody tr th {\n",
       "        vertical-align: top;\n",
       "    }\n",
       "\n",
       "    .dataframe thead th {\n",
       "        text-align: right;\n",
       "    }\n",
       "</style>\n",
       "<table border=\"1\" class=\"dataframe\">\n",
       "  <thead>\n",
       "    <tr style=\"text-align: right;\">\n",
       "      <th></th>\n",
       "      <th>ADMIN</th>\n",
       "      <th>ISO_A3</th>\n",
       "      <th>geometry</th>\n",
       "    </tr>\n",
       "  </thead>\n",
       "  <tbody>\n",
       "    <tr>\n",
       "      <th>253</th>\n",
       "      <td>Zambia</td>\n",
       "      <td>ZMB</td>\n",
       "      <td>POLYGON ((31.11984 -8.61663, 31.14102 -8.60619...</td>\n",
       "    </tr>\n",
       "  </tbody>\n",
       "</table>\n",
       "</div>"
      ],
      "text/plain": [
       "      ADMIN ISO_A3                                           geometry\n",
       "253  Zambia    ZMB  POLYGON ((31.11984 -8.61663, 31.14102 -8.60619..."
      ]
     },
     "execution_count": 127,
     "metadata": {},
     "output_type": "execute_result"
    }
   ],
   "source": [
    "zambia_shp.head()"
   ]
  },
  {
   "cell_type": "code",
   "execution_count": 26,
   "id": "a3a702f4",
   "metadata": {},
   "outputs": [
    {
     "data": {
      "text/plain": [
       "<AxesSubplot:>"
      ]
     },
     "execution_count": 26,
     "metadata": {},
     "output_type": "execute_result"
    },
    {
     "data": {
      "image/png": "[encoded data removed]",
      "text/plain": [
       "<Figure size 432x288 with 1 Axes>"
      ]
     },
     "metadata": {
      "needs_background": "light"
     },
     "output_type": "display_data"
    }
   ],
   "source": [
    "zambia_shp.plot()"
   ]
  },
  {
   "cell_type": "code",
   "execution_count": 126,
   "id": "92091666",
   "metadata": {},
   "outputs": [
    {
     "data": {
      "text/plain": [
       "True"
      ]
     },
     "execution_count": 126,
     "metadata": {},
     "output_type": "execute_result"
    }
   ],
   "source": [
    "hh_shp.crs == zambia_shp.crs"
   ]
  },
  {
   "cell_type": "code",
   "execution_count": 124,
   "id": "f8b3e441",
   "metadata": {},
   "outputs": [
    {
     "data": {
      "text/plain": [
       "<AxesSubplot:>"
      ]
     },
     "execution_count": 124,
     "metadata": {},
     "output_type": "execute_result"
    },
    {
     "data": {
      "image/png": "[encoded data removed]",
      "text/plain": [
       "<Figure size 1440x1440 with 1 Axes>"
      ]
     },
     "metadata": {
      "needs_background": "light"
     },
     "output_type": "display_data"
    }
   ],
   "source": [
    "f,a = plt.subplots(figsize=(20,20))\n",
    "hh_shp.plot(ax=a,facecolor='none', edgecolor='black')\n",
    "zambia_shp.plot(ax=a,facecolor='none', edgecolor='black')"
   ]
  },
  {
   "cell_type": "code",
   "execution_count": null,
   "id": "0839175b",
   "metadata": {},
   "outputs": [],
   "source": [
    "\"C:\\Users\\mliu11\\Box\\Spring 2022\\ACE592SAE\\Project data\\Deforestation data\\Deforestation\\buffer_3km\\all raster files"
   ]
  },
  {
   "cell_type": "code",
   "execution_count": 79,
   "id": "0781308c",
   "metadata": {},
   "outputs": [],
   "source": [
    "import subprocess\n",
    "import os"
   ]
  },
  {
   "cell_type": "code",
   "execution_count": 11,
   "id": "da02bd04",
   "metadata": {},
   "outputs": [],
   "source": [
    "from geopandas import GeoDataFrame\n",
    "from shapely.geometry import Point"
   ]
  },
  {
   "cell_type": "code",
   "execution_count": 12,
   "id": "20d2b5db",
   "metadata": {},
   "outputs": [],
   "source": [
    "\n",
    "# your directory with all your csv files in it\n",
    "rainfall = pd.read_csv(\"C:/Users/mliu11/Box/Spring 2022/ACE592SAE/Project data/Rainfall data/Raw Rainfall.csv\")\n"
   ]
  },
  {
   "cell_type": "code",
   "execution_count": 13,
   "id": "3dbed083",
   "metadata": {},
   "outputs": [
    {
     "data": {
      "text/html": [
       "<div>\n",
       "<style scoped>\n",
       "    .dataframe tbody tr th:only-of-type {\n",
       "        vertical-align: middle;\n",
       "    }\n",
       "\n",
       "    .dataframe tbody tr th {\n",
       "        vertical-align: top;\n",
       "    }\n",
       "\n",
       "    .dataframe thead th {\n",
       "        text-align: right;\n",
       "    }\n",
       "</style>\n",
       "<table border=\"1\" class=\"dataframe\">\n",
       "  <thead>\n",
       "    <tr style=\"text-align: right;\">\n",
       "      <th></th>\n",
       "      <th>HHID</th>\n",
       "      <th>2015</th>\n",
       "      <th>2016</th>\n",
       "      <th>2017</th>\n",
       "      <th>2018</th>\n",
       "      <th>2019</th>\n",
       "    </tr>\n",
       "  </thead>\n",
       "  <tbody>\n",
       "    <tr>\n",
       "      <th>0</th>\n",
       "      <td>40113014</td>\n",
       "      <td>1217.440947</td>\n",
       "      <td>1192.977921</td>\n",
       "      <td>1237.237969</td>\n",
       "      <td>1207.417485</td>\n",
       "      <td>1271.955722</td>\n",
       "    </tr>\n",
       "    <tr>\n",
       "      <th>1</th>\n",
       "      <td>40113010</td>\n",
       "      <td>1217.440947</td>\n",
       "      <td>1192.977921</td>\n",
       "      <td>1237.237969</td>\n",
       "      <td>1207.417485</td>\n",
       "      <td>1271.955722</td>\n",
       "    </tr>\n",
       "    <tr>\n",
       "      <th>2</th>\n",
       "      <td>40113017</td>\n",
       "      <td>1217.440947</td>\n",
       "      <td>1192.977921</td>\n",
       "      <td>1237.237969</td>\n",
       "      <td>1207.417485</td>\n",
       "      <td>1271.955722</td>\n",
       "    </tr>\n",
       "    <tr>\n",
       "      <th>3</th>\n",
       "      <td>40113011</td>\n",
       "      <td>1217.440947</td>\n",
       "      <td>1192.977921</td>\n",
       "      <td>1237.237969</td>\n",
       "      <td>1207.417485</td>\n",
       "      <td>1271.955722</td>\n",
       "    </tr>\n",
       "    <tr>\n",
       "      <th>4</th>\n",
       "      <td>40113013</td>\n",
       "      <td>1217.440947</td>\n",
       "      <td>1192.977921</td>\n",
       "      <td>1237.237969</td>\n",
       "      <td>1207.417485</td>\n",
       "      <td>1271.955722</td>\n",
       "    </tr>\n",
       "  </tbody>\n",
       "</table>\n",
       "</div>"
      ],
      "text/plain": [
       "       HHID         2015         2016         2017         2018         2019\n",
       "0  40113014  1217.440947  1192.977921  1237.237969  1207.417485  1271.955722\n",
       "1  40113010  1217.440947  1192.977921  1237.237969  1207.417485  1271.955722\n",
       "2  40113017  1217.440947  1192.977921  1237.237969  1207.417485  1271.955722\n",
       "3  40113011  1217.440947  1192.977921  1237.237969  1207.417485  1271.955722\n",
       "4  40113013  1217.440947  1192.977921  1237.237969  1207.417485  1271.955722"
      ]
     },
     "execution_count": 13,
     "metadata": {},
     "output_type": "execute_result"
    }
   ],
   "source": [
    "rainfall.head()"
   ]
  },
  {
   "cell_type": "code",
   "execution_count": 25,
   "id": "efa636de",
   "metadata": {},
   "outputs": [],
   "source": [
    "hh_rainfall = hh_shp.merge(rainfall, left_on = \"HHID\", right_on = \"HHID\")"
   ]
  },
  {
   "cell_type": "code",
   "execution_count": 26,
   "id": "5cfe43fe",
   "metadata": {},
   "outputs": [
    {
     "data": {
      "text/plain": [
       "geopandas.geodataframe.GeoDataFrame"
      ]
     },
     "execution_count": 26,
     "metadata": {},
     "output_type": "execute_result"
    }
   ],
   "source": [
    "type(hh_rainfall)"
   ]
  },
  {
   "cell_type": "code",
   "execution_count": 28,
   "id": "7b9bef9e",
   "metadata": {},
   "outputs": [
    {
     "data": {
      "text/plain": [
       "<Geographic 2D CRS: EPSG:4326>\n",
       "Name: WGS 84\n",
       "Axis Info [ellipsoidal]:\n",
       "- Lat[north]: Geodetic latitude (degree)\n",
       "- Lon[east]: Geodetic longitude (degree)\n",
       "Area of Use:\n",
       "- name: World\n",
       "- bounds: (-180.0, -90.0, 180.0, 90.0)\n",
       "Datum: World Geodetic System 1984\n",
       "- Ellipsoid: WGS 84\n",
       "- Prime Meridian: Greenwich"
      ]
     },
     "execution_count": 28,
     "metadata": {},
     "output_type": "execute_result"
    }
   ],
   "source": [
    "hh_rainfall.crs"
   ]
  },
  {
   "cell_type": "code",
   "execution_count": 15,
   "id": "3de441ba",
   "metadata": {
    "scrolled": true
   },
   "outputs": [
    {
     "data": {
      "text/html": [
       "<div>\n",
       "<style scoped>\n",
       "    .dataframe tbody tr th:only-of-type {\n",
       "        vertical-align: middle;\n",
       "    }\n",
       "\n",
       "    .dataframe tbody tr th {\n",
       "        vertical-align: top;\n",
       "    }\n",
       "\n",
       "    .dataframe thead th {\n",
       "        text-align: right;\n",
       "    }\n",
       "</style>\n",
       "<table border=\"1\" class=\"dataframe\">\n",
       "  <thead>\n",
       "    <tr style=\"text-align: right;\">\n",
       "      <th></th>\n",
       "      <th>OBJECTID</th>\n",
       "      <th>HHID</th>\n",
       "      <th>latitude</th>\n",
       "      <th>longitude</th>\n",
       "      <th>BUFF_DIST</th>\n",
       "      <th>ORIG_FID</th>\n",
       "      <th>Shape_Leng</th>\n",
       "      <th>Shape_Area</th>\n",
       "      <th>coords</th>\n",
       "      <th>2015</th>\n",
       "      <th>2016</th>\n",
       "      <th>2017</th>\n",
       "      <th>2018</th>\n",
       "      <th>2019</th>\n",
       "    </tr>\n",
       "  </thead>\n",
       "  <tbody>\n",
       "    <tr>\n",
       "      <th>0</th>\n",
       "      <td>1</td>\n",
       "      <td>40113014.0</td>\n",
       "      <td>-8.8090</td>\n",
       "      <td>31.533300</td>\n",
       "      <td>3.0</td>\n",
       "      <td>0</td>\n",
       "      <td>0.170864</td>\n",
       "      <td>0.002323</td>\n",
       "      <td>[(31.53329999969526, -8.781875285016326), (31....</td>\n",
       "      <td>1217.440947</td>\n",
       "      <td>1192.977921</td>\n",
       "      <td>1237.237969</td>\n",
       "      <td>1207.417485</td>\n",
       "      <td>1271.955722</td>\n",
       "    </tr>\n",
       "    <tr>\n",
       "      <th>1</th>\n",
       "      <td>2</td>\n",
       "      <td>40113010.0</td>\n",
       "      <td>-8.8098</td>\n",
       "      <td>31.532700</td>\n",
       "      <td>3.0</td>\n",
       "      <td>1</td>\n",
       "      <td>0.170864</td>\n",
       "      <td>0.002323</td>\n",
       "      <td>[(31.532699999905105, -8.782675285935625), (31...</td>\n",
       "      <td>1217.440947</td>\n",
       "      <td>1192.977921</td>\n",
       "      <td>1237.237969</td>\n",
       "      <td>1207.417485</td>\n",
       "      <td>1271.955722</td>\n",
       "    </tr>\n",
       "    <tr>\n",
       "      <th>2</th>\n",
       "      <td>3</td>\n",
       "      <td>40113017.0</td>\n",
       "      <td>-8.8106</td>\n",
       "      <td>31.537701</td>\n",
       "      <td>3.0</td>\n",
       "      <td>2</td>\n",
       "      <td>0.170865</td>\n",
       "      <td>0.002323</td>\n",
       "      <td>[(31.537701000300956, -8.7834752877543), (31.5...</td>\n",
       "      <td>1217.440947</td>\n",
       "      <td>1192.977921</td>\n",
       "      <td>1237.237969</td>\n",
       "      <td>1207.417485</td>\n",
       "      <td>1271.955722</td>\n",
       "    </tr>\n",
       "    <tr>\n",
       "      <th>3</th>\n",
       "      <td>4</td>\n",
       "      <td>40113011.0</td>\n",
       "      <td>-8.8108</td>\n",
       "      <td>31.538401</td>\n",
       "      <td>3.0</td>\n",
       "      <td>3</td>\n",
       "      <td>0.170865</td>\n",
       "      <td>0.002323</td>\n",
       "      <td>[(31.538401000206022, -8.783675287984124), (31...</td>\n",
       "      <td>1217.440947</td>\n",
       "      <td>1192.977921</td>\n",
       "      <td>1237.237969</td>\n",
       "      <td>1207.417485</td>\n",
       "      <td>1271.955722</td>\n",
       "    </tr>\n",
       "    <tr>\n",
       "      <th>4</th>\n",
       "      <td>5</td>\n",
       "      <td>40113013.0</td>\n",
       "      <td>-8.8115</td>\n",
       "      <td>31.535500</td>\n",
       "      <td>3.0</td>\n",
       "      <td>4</td>\n",
       "      <td>0.170865</td>\n",
       "      <td>0.002323</td>\n",
       "      <td>[(31.535500000424747, -8.78437528878851), (31....</td>\n",
       "      <td>1217.440947</td>\n",
       "      <td>1192.977921</td>\n",
       "      <td>1237.237969</td>\n",
       "      <td>1207.417485</td>\n",
       "      <td>1271.955722</td>\n",
       "    </tr>\n",
       "  </tbody>\n",
       "</table>\n",
       "</div>"
      ],
      "text/plain": [
       "   OBJECTID        HHID  latitude  longitude  BUFF_DIST  ORIG_FID  Shape_Leng  \\\n",
       "0         1  40113014.0   -8.8090  31.533300        3.0         0    0.170864   \n",
       "1         2  40113010.0   -8.8098  31.532700        3.0         1    0.170864   \n",
       "2         3  40113017.0   -8.8106  31.537701        3.0         2    0.170865   \n",
       "3         4  40113011.0   -8.8108  31.538401        3.0         3    0.170865   \n",
       "4         5  40113013.0   -8.8115  31.535500        3.0         4    0.170865   \n",
       "\n",
       "   Shape_Area                                             coords         2015  \\\n",
       "0    0.002323  [(31.53329999969526, -8.781875285016326), (31....  1217.440947   \n",
       "1    0.002323  [(31.532699999905105, -8.782675285935625), (31...  1217.440947   \n",
       "2    0.002323  [(31.537701000300956, -8.7834752877543), (31.5...  1217.440947   \n",
       "3    0.002323  [(31.538401000206022, -8.783675287984124), (31...  1217.440947   \n",
       "4    0.002323  [(31.535500000424747, -8.78437528878851), (31....  1217.440947   \n",
       "\n",
       "          2016         2017         2018         2019  \n",
       "0  1192.977921  1237.237969  1207.417485  1271.955722  \n",
       "1  1192.977921  1237.237969  1207.417485  1271.955722  \n",
       "2  1192.977921  1237.237969  1207.417485  1271.955722  \n",
       "3  1192.977921  1237.237969  1207.417485  1271.955722  \n",
       "4  1192.977921  1237.237969  1207.417485  1271.955722  "
      ]
     },
     "execution_count": 15,
     "metadata": {},
     "output_type": "execute_result"
    }
   ],
   "source": [
    "hh_rainfall.head()"
   ]
  },
  {
   "cell_type": "code",
   "execution_count": 29,
   "id": "06588042",
   "metadata": {},
   "outputs": [],
   "source": [
    "hh_rainfall.to_file('C:/Users/mliu11/Box/Spring 2022/ACE592SAE/Project data/rainfall shps/hh_rainfall.shp', driver='ESRI Shapefile')"
   ]
  },
  {
   "cell_type": "code",
   "execution_count": 32,
   "id": "4ec16973",
   "metadata": {},
   "outputs": [],
   "source": [
    "rainfall_sf = shp.Reader(\"C:/Users/mliu11/Box/Spring 2022/ACE592SAE/Project data/rainfall shps/hh_rainfall.shp\")"
   ]
  },
  {
   "cell_type": "code",
   "execution_count": 30,
   "id": "0d299304",
   "metadata": {},
   "outputs": [],
   "source": [
    "def read_shapefile(sf):\n",
    "    \"\"\"\n",
    "    Read a shapefile into a Pandas dataframe with a 'coords' \n",
    "    column holding the geometry information. This uses the pyshp\n",
    "    package\n",
    "    \"\"\"\n",
    "    fields = [x[0] for x in sf.fields][1:]\n",
    "    records = sf.records()\n",
    "    shps = [s.points for s in sf.shapes()]    \n",
    "    df = pd.DataFrame(columns=fields, data=records)\n",
    "    df = df.assign(coords=shps)    \n",
    "    return df"
   ]
  },
  {
   "cell_type": "code",
   "execution_count": 33,
   "id": "61393eee",
   "metadata": {},
   "outputs": [],
   "source": [
    "df_hh_rainfall = read_shapefile(rainfall_sf)"
   ]
  },
  {
   "cell_type": "code",
   "execution_count": null,
   "id": "0b872c8a",
   "metadata": {},
   "outputs": [],
   "source": []
  },
  {
   "cell_type": "code",
   "execution_count": 84,
   "id": "fd299938",
   "metadata": {},
   "outputs": [],
   "source": [
    "geo_rainfall_15 = geo_rainfall.loc[:,[\"latitude\",\"longitude\",\"2015\"]]"
   ]
  },
  {
   "cell_type": "code",
   "execution_count": 85,
   "id": "fa301d97",
   "metadata": {},
   "outputs": [],
   "source": [
    "geo_rainfall_16 = geo_rainfall.loc[:,[\"latitude\",\"longitude\",\"2016\"]]"
   ]
  },
  {
   "cell_type": "code",
   "execution_count": 86,
   "id": "c7313d65",
   "metadata": {},
   "outputs": [],
   "source": [
    "geo_rainfall_17 = geo_rainfall.loc[:,[\"latitude\",\"longitude\",\"2017\"]]"
   ]
  },
  {
   "cell_type": "code",
   "execution_count": 87,
   "id": "2316afde",
   "metadata": {},
   "outputs": [],
   "source": [
    "geo_rainfall_18 = geo_rainfall.loc[:,[\"latitude\",\"longitude\",\"2018\"]]"
   ]
  },
  {
   "cell_type": "code",
   "execution_count": 88,
   "id": "c21b2fe7",
   "metadata": {},
   "outputs": [],
   "source": [
    "geo_rainfall_19 = geo_rainfall.loc[:,[\"latitude\",\"longitude\",\"2019\"]]"
   ]
  },
  {
   "cell_type": "code",
   "execution_count": null,
   "id": "06cde514",
   "metadata": {},
   "outputs": [],
   "source": []
  },
  {
   "cell_type": "code",
   "execution_count": 118,
   "id": "57f6a880",
   "metadata": {},
   "outputs": [
    {
     "name": "stderr",
     "output_type": "stream",
     "text": [
      "C:\\Users\\mliu11\\Anaconda3\\envs\\ace592\\lib\\site-packages\\pyproj\\crs\\crs.py:53: FutureWarning: '+init=<authority>:<code>' syntax is deprecated. '<authority>:<code>' is the preferred initialization method. When making the change, be mindful of axis order changes: https://pyproj4.github.io/pyproj/stable/gotchas.html#axis-order-changes-in-proj-6\n",
      "  return _prepare_from_string(\" \".join(pjargs))\n"
     ]
    }
   ],
   "source": [
    "gdf_rainfall_15 = GeoDataFrame(\n",
    "    geo_rainfall_15.drop(['longitude','latitude'], axis=1),\n",
    "    crs={'init': 'epsg:4326'},\n",
    "    geometry=[Point(xy) for xy in zip(geo_rainfall_15.longitude, geo_rainfall_15.latitude)])"
   ]
  },
  {
   "cell_type": "code",
   "execution_count": 120,
   "id": "b6e22555",
   "metadata": {},
   "outputs": [
    {
     "data": {
      "text/plain": [
       "<Geographic 2D CRS: +init=epsg:4326 +type=crs>\n",
       "Name: WGS 84\n",
       "Axis Info [ellipsoidal]:\n",
       "- lon[east]: Longitude (degree)\n",
       "- lat[north]: Latitude (degree)\n",
       "Area of Use:\n",
       "- name: World\n",
       "- bounds: (-180.0, -90.0, 180.0, 90.0)\n",
       "Datum: World Geodetic System 1984\n",
       "- Ellipsoid: WGS 84\n",
       "- Prime Meridian: Greenwich"
      ]
     },
     "execution_count": 120,
     "metadata": {},
     "output_type": "execute_result"
    }
   ],
   "source": [
    "gdf_rainfall_15.crs"
   ]
  },
  {
   "cell_type": "code",
   "execution_count": 35,
   "id": "be93a4f2",
   "metadata": {},
   "outputs": [],
   "source": [
    "def plot_map(sf, x_lim = None, y_lim = None, figsize = (20,20)):\n",
    "    '''\n",
    "    Plot map with lim coordinates\n",
    "    '''\n",
    "    plt.figure(figsize = figsize)\n",
    "    id=0\n",
    "    for shape in sf.shapeRecords():\n",
    "        x = [i[0] for i in shape.shape.points[:]]\n",
    "        y = [i[1] for i in shape.shape.points[:]]\n",
    "        plt.plot(x, y, 'k')\n",
    "        \n",
    "        #if (x_lim == None) & (y_lim == None):\n",
    "            #x0 = np.mean(x)\n",
    "            #y0 = np.mean(y)\n",
    "            #plt.text(x0, y0, id, fontsize=10)\n",
    "        #id = id+1\n",
    "    \n",
    "    if (x_lim != None) & (y_lim != None):     \n",
    "        plt.xlim(x_lim)\n",
    "        plt.ylim(y_lim)"
   ]
  },
  {
   "cell_type": "code",
   "execution_count": 37,
   "id": "303fb9e6",
   "metadata": {},
   "outputs": [
    {
     "data": {
      "image/png": "[encoded data removed]",
      "text/plain": [
       "<Figure size 1440x1440 with 1 Axes>"
      ]
     },
     "metadata": {
      "needs_background": "light"
     },
     "output_type": "display_data"
    }
   ],
   "source": [
    "plot_map(rainfall_sf)"
   ]
  },
  {
   "cell_type": "code",
   "execution_count": 50,
   "id": "4a1c3597",
   "metadata": {},
   "outputs": [
    {
     "data": {
      "text/plain": [
       "<shapefile.Reader at 0x2569e226790>"
      ]
     },
     "execution_count": 50,
     "metadata": {},
     "output_type": "execute_result"
    }
   ],
   "source": [
    "rainfall_sf"
   ]
  },
  {
   "cell_type": "code",
   "execution_count": 44,
   "id": "d89ca2d8",
   "metadata": {},
   "outputs": [],
   "source": [
    "def plot_comunas_data(sf, title, comunas, data=None, \n",
    "                      color=None, print_id=False):\n",
    "    '''\n",
    "    Plot map with selected comunes, using specific color\n",
    "    '''\n",
    "    \n",
    "    color_ton, bins = calc_color(data, color)\n",
    "    df = read_shapefile(sf)\n",
    "    comuna_id = []\n",
    "    for i in comunas:\n",
    "        i = conv_comuna(i).upper()\n",
    "        comuna_id.append(df[df.NOM_COMUNA == \n",
    "                            i.upper()].index.get_values()[0])\n",
    "    plot_map_fill_multiples_ids_tone(sf, title, comuna_id, \n",
    "                                     print_id, \n",
    "                                     color_ton, \n",
    "                                     bins, \n",
    "                                     x_lim = None, \n",
    "                                     y_lim = None, \n",
    "                                     figsize = (20,20));"
   ]
  },
  {
   "cell_type": "code",
   "execution_count": 42,
   "id": "d3752ee2",
   "metadata": {},
   "outputs": [
    {
     "ename": "IndentationError",
     "evalue": "unindent does not match any outer indentation level (<tokenize>, line 20)",
     "output_type": "error",
     "traceback": [
      "\u001b[1;36m  File \u001b[1;32m\"<tokenize>\"\u001b[1;36m, line \u001b[1;32m20\u001b[0m\n\u001b[1;33m    for id in comuna:\u001b[0m\n\u001b[1;37m    ^\u001b[0m\n\u001b[1;31mIndentationError\u001b[0m\u001b[1;31m:\u001b[0m unindent does not match any outer indentation level\n"
     ]
    }
   ],
   "source": [
    "def plot_map_fill_multiples_ids_tone(sf, title, comuna,  \n",
    "                                     print_id, color_ton, \n",
    "                                     bins, \n",
    "                                     x_lim = None, \n",
    "                                     y_lim = None, \n",
    "                                     figsize = (20,20)):\n",
    "    '''\n",
    "    Plot map with lim coordinates\n",
    "    '''\n",
    "        \n",
    "    plt.figure(figsize = figsize)\n",
    "    fig, ax = plt.subplots(figsize = figsize)\n",
    "    fig.suptitle(title, fontsize=16)\n",
    "\n",
    "for shape in sf.shapeRecords():\n",
    "        x = [i[0] for i in shape.shape.points[:]]\n",
    "        y = [i[1] for i in shape.shape.points[:]]\n",
    "        ax.plot(x, y, 'k')      \n",
    "        \n",
    "    for id in comuna:\n",
    "        shape_ex = sf.shape(id)\n",
    "        x_lon = np.zeros((len(shape_ex.points),1))\n",
    "        y_lat = np.zeros((len(shape_ex.points),1))\n",
    "        for ip in range(len(shape_ex.points)):\n",
    "            x_lon[ip] = shape_ex.points[ip][0]\n",
    "            y_lat[ip] = shape_ex.points[ip][1]\n",
    "        ax.fill(x_lon,y_lat, color_ton[comuna.index(id)])\n",
    "        if print_id != False:\n",
    "            x0 = np.mean(x_lon)\n",
    "            y0 = np.mean(y_lat)\n",
    "            plt.text(x0, y0, id, fontsize=10)\n",
    "    if (x_lim != None) & (y_lim != None):     \n",
    "        plt.xlim(x_lim)\n",
    "        plt.ylim(y_lim)"
   ]
  },
  {
   "cell_type": "code",
   "execution_count": 48,
   "id": "e7700b4f",
   "metadata": {},
   "outputs": [
    {
     "ename": "AttributeError",
     "evalue": "'Reader' object has no attribute 'HHID'",
     "output_type": "error",
     "traceback": [
      "\u001b[1;31m---------------------------------------------------------------------------\u001b[0m",
      "\u001b[1;31mAttributeError\u001b[0m                            Traceback (most recent call last)",
      "\u001b[1;32m~\\AppData\\Local\\Temp\\ipykernel_19032\\2087137521.py\u001b[0m in \u001b[0;36m<module>\u001b[1;34m\u001b[0m\n\u001b[0;32m      1\u001b[0m \u001b[0mcolor_pallete\u001b[0m \u001b[1;33m=\u001b[0m \u001b[1;36m1\u001b[0m \u001b[1;31m# 'Purples'\u001b[0m\u001b[1;33m\u001b[0m\u001b[1;33m\u001b[0m\u001b[0m\n\u001b[1;32m----> 2\u001b[1;33m \u001b[0mplot_comunas_data\u001b[0m\u001b[1;33m(\u001b[0m\u001b[0mrainfall_sf\u001b[0m\u001b[1;33m,\u001b[0m \u001b[1;34m'Rainfall'\u001b[0m\u001b[1;33m,\u001b[0m \u001b[0mrainfall_sf\u001b[0m\u001b[1;33m.\u001b[0m\u001b[0mHHID\u001b[0m\u001b[1;33m,\u001b[0m\u001b[0mrainfall_sf\u001b[0m\u001b[1;33m.\u001b[0m\u001b[0mloc\u001b[0m\u001b[1;33m[\u001b[0m\u001b[1;33m:\u001b[0m\u001b[1;33m,\u001b[0m\u001b[1;36m2015\u001b[0m\u001b[1;33m]\u001b[0m \u001b[1;33m,\u001b[0m \u001b[0mcolor_pallete\u001b[0m\u001b[1;33m,\u001b[0m \u001b[1;32mFalse\u001b[0m\u001b[1;33m)\u001b[0m\u001b[1;33m\u001b[0m\u001b[1;33m\u001b[0m\u001b[0m\n\u001b[0m",
      "\u001b[1;31mAttributeError\u001b[0m: 'Reader' object has no attribute 'HHID'"
     ]
    }
   ],
   "source": [
    "color_pallete = 1 # 'Purples'\n",
    "plot_comunas_data(rainfall_sf, 'Rainfall', rainfall_sf.HHID,rainfall_sf.loc[:,2015] , color_pallete, False)"
   ]
  },
  {
   "cell_type": "code",
   "execution_count": 128,
   "id": "e78d644a",
   "metadata": {},
   "outputs": [
    {
     "data": {
      "text/plain": [
       "<AxesSubplot:>"
      ]
     },
     "execution_count": 128,
     "metadata": {},
     "output_type": "execute_result"
    },
    {
     "data": {
      "image/png": "[encoded data removed]",
      "text/plain": [
       "<Figure size 1440x1440 with 1 Axes>"
      ]
     },
     "metadata": {
      "needs_background": "light"
     },
     "output_type": "display_data"
    }
   ],
   "source": [
    "f,a = plt.subplots(figsize=(20,20))\n",
    "hh_shp.plot(ax=a,facecolor='none', edgecolor='black')\n",
    "zambia_shp.plot(ax=a,facecolor='none', edgecolor='black')\n",
    "gdf_rainfall_15.plot(ax = a)"
   ]
  },
  {
   "cell_type": "code",
   "execution_count": 121,
   "id": "59d7fb1f",
   "metadata": {},
   "outputs": [],
   "source": [
    "gdf_rainfall_15.to_file(\"C:/Users/mliu11/Box/Spring 2022/ACE592SAE/Project data/rainfall shps/rainfall_15.shp\")"
   ]
  },
  {
   "cell_type": "code",
   "execution_count": 89,
   "id": "2b423385",
   "metadata": {},
   "outputs": [],
   "source": [
    "geo_rainfall_15.to_csv(\"C:/Users/mliu11/Box/Spring 2022/ACE592SAE/Project data/csvdata/geo_rainfall_15.csv\")"
   ]
  },
  {
   "cell_type": "code",
   "execution_count": 90,
   "id": "334a0c5d",
   "metadata": {},
   "outputs": [],
   "source": [
    "geo_rainfall_16.to_csv(\"C:/Users/mliu11/Box/Spring 2022/ACE592SAE/Project data/csvdata/geo_rainfall_16.csv\")"
   ]
  },
  {
   "cell_type": "code",
   "execution_count": 91,
   "id": "3f55837e",
   "metadata": {},
   "outputs": [],
   "source": [
    "geo_rainfall_17.to_csv(\"C:/Users/mliu11/Box/Spring 2022/ACE592SAE/Project data/csvdata/geo_rainfall_17.csv\")"
   ]
  },
  {
   "cell_type": "code",
   "execution_count": 92,
   "id": "d7a60352",
   "metadata": {},
   "outputs": [],
   "source": [
    "geo_rainfall_18.to_csv(\"C:/Users/mliu11/Box/Spring 2022/ACE592SAE/Project data/csvdata/geo_rainfall_18.csv\")"
   ]
  },
  {
   "cell_type": "code",
   "execution_count": 93,
   "id": "cce9af95",
   "metadata": {},
   "outputs": [],
   "source": [
    "geo_rainfall_19.to_csv(\"C:/Users/mliu11/Box/Spring 2022/ACE592SAE/Project data/csvdata/geo_rainfall_19.csv\")"
   ]
  },
  {
   "cell_type": "code",
   "execution_count": null,
   "id": "cb71c40b",
   "metadata": {},
   "outputs": [],
   "source": [
    "geo_rainfall.to_csv(\"C:/Users/mliu11/Box/Spring 2022/ACE592SAE/Project data/csvdata/geo_rainfall.csv\")"
   ]
  },
  {
   "cell_type": "code",
   "execution_count": null,
   "id": "3b17ad3f",
   "metadata": {},
   "outputs": [],
   "source": [
    "gdf = gpd.read_file('myFile.csv')\n",
    "gdf.crs = 'epsg:4326'"
   ]
  },
  {
   "cell_type": "code",
   "execution_count": 74,
   "id": "43ab7120",
   "metadata": {
    "scrolled": true
   },
   "outputs": [
    {
     "data": {
      "text/html": [
       "<div>\n",
       "<style scoped>\n",
       "    .dataframe tbody tr th:only-of-type {\n",
       "        vertical-align: middle;\n",
       "    }\n",
       "\n",
       "    .dataframe tbody tr th {\n",
       "        vertical-align: top;\n",
       "    }\n",
       "\n",
       "    .dataframe thead th {\n",
       "        text-align: right;\n",
       "    }\n",
       "</style>\n",
       "<table border=\"1\" class=\"dataframe\">\n",
       "  <thead>\n",
       "    <tr style=\"text-align: right;\">\n",
       "      <th></th>\n",
       "      <th>HHID</th>\n",
       "      <th>2015</th>\n",
       "      <th>2016</th>\n",
       "      <th>2017</th>\n",
       "      <th>2018</th>\n",
       "      <th>2019</th>\n",
       "      <th>latitude</th>\n",
       "      <th>longitude</th>\n",
       "    </tr>\n",
       "  </thead>\n",
       "  <tbody>\n",
       "    <tr>\n",
       "      <th>0</th>\n",
       "      <td>40113014</td>\n",
       "      <td>1217.440947</td>\n",
       "      <td>1192.977921</td>\n",
       "      <td>1237.237969</td>\n",
       "      <td>1207.417485</td>\n",
       "      <td>1271.955722</td>\n",
       "      <td>-8.8090</td>\n",
       "      <td>31.533300</td>\n",
       "    </tr>\n",
       "    <tr>\n",
       "      <th>1</th>\n",
       "      <td>40113010</td>\n",
       "      <td>1217.440947</td>\n",
       "      <td>1192.977921</td>\n",
       "      <td>1237.237969</td>\n",
       "      <td>1207.417485</td>\n",
       "      <td>1271.955722</td>\n",
       "      <td>-8.8098</td>\n",
       "      <td>31.532700</td>\n",
       "    </tr>\n",
       "    <tr>\n",
       "      <th>2</th>\n",
       "      <td>40113017</td>\n",
       "      <td>1217.440947</td>\n",
       "      <td>1192.977921</td>\n",
       "      <td>1237.237969</td>\n",
       "      <td>1207.417485</td>\n",
       "      <td>1271.955722</td>\n",
       "      <td>-8.8106</td>\n",
       "      <td>31.537701</td>\n",
       "    </tr>\n",
       "    <tr>\n",
       "      <th>3</th>\n",
       "      <td>40113011</td>\n",
       "      <td>1217.440947</td>\n",
       "      <td>1192.977921</td>\n",
       "      <td>1237.237969</td>\n",
       "      <td>1207.417485</td>\n",
       "      <td>1271.955722</td>\n",
       "      <td>-8.8108</td>\n",
       "      <td>31.538401</td>\n",
       "    </tr>\n",
       "    <tr>\n",
       "      <th>4</th>\n",
       "      <td>40113013</td>\n",
       "      <td>1217.440947</td>\n",
       "      <td>1192.977921</td>\n",
       "      <td>1237.237969</td>\n",
       "      <td>1207.417485</td>\n",
       "      <td>1271.955722</td>\n",
       "      <td>-8.8115</td>\n",
       "      <td>31.535500</td>\n",
       "    </tr>\n",
       "  </tbody>\n",
       "</table>\n",
       "</div>"
      ],
      "text/plain": [
       "       HHID         2015         2016         2017         2018         2019  \\\n",
       "0  40113014  1217.440947  1192.977921  1237.237969  1207.417485  1271.955722   \n",
       "1  40113010  1217.440947  1192.977921  1237.237969  1207.417485  1271.955722   \n",
       "2  40113017  1217.440947  1192.977921  1237.237969  1207.417485  1271.955722   \n",
       "3  40113011  1217.440947  1192.977921  1237.237969  1207.417485  1271.955722   \n",
       "4  40113013  1217.440947  1192.977921  1237.237969  1207.417485  1271.955722   \n",
       "\n",
       "   latitude  longitude  \n",
       "0   -8.8090  31.533300  \n",
       "1   -8.8098  31.532700  \n",
       "2   -8.8106  31.537701  \n",
       "3   -8.8108  31.538401  \n",
       "4   -8.8115  31.535500  "
      ]
     },
     "execution_count": 74,
     "metadata": {},
     "output_type": "execute_result"
    }
   ],
   "source": [
    "geo_rainfall.head()"
   ]
  },
  {
   "cell_type": "code",
   "execution_count": 94,
   "id": "e14c750e",
   "metadata": {},
   "outputs": [],
   "source": [
    "# your directory with all your csv files in it\n",
    "dir_with_csvs = r\"C:/Users/mliu11/Box/Spring 2022/ACE592SAE/Project data/csvdata\""
   ]
  },
  {
   "cell_type": "code",
   "execution_count": 95,
   "id": "7c3cc695",
   "metadata": {},
   "outputs": [],
   "source": [
    "# make it the active directory\n",
    "os.chdir(dir_with_csvs)\n",
    "\n",
    "# function to get the csv filenames in the directory\n",
    "def find_csv_filenames(path_to_dir, suffix=\".csv\"):\n",
    "    filenames = os.listdir(path_to_dir)\n",
    "    return [ filename for filename in filenames if filename.endswith(suffix) ]"
   ]
  },
  {
   "cell_type": "code",
   "execution_count": 109,
   "id": "9b227696",
   "metadata": {},
   "outputs": [],
   "source": [
    "# get the filenames\n",
    "csvfiles = find_csv_filenames(dir_with_csvs)\n",
    "\n",
    "# loop through each CSV file\n",
    "# for each CSV file, make an associated VRT file to be used with gdal_grid command\n",
    "# and then run the gdal_grid util in a subprocess instance\n",
    "for fn in csvfiles:\n",
    "    vrt_fn = fn.replace(\".csv\", \".vrt\")\n",
    "    lyr_name = fn.replace('.csv', '')\n",
    "    out_tif = fn.replace('.csv', '.tif')\n",
    "    with open(vrt_fn, 'w') as fn_vrt:\n",
    "        fn_vrt.write('<OGRVRTDataSource>\\n')\n",
    "        fn_vrt.write('\\t<OGRVRTLayer name=\"%s\">\\n' % lyr_name)\n",
    "        fn_vrt.write('\\t\\t<SrcDataSource>%s</SrcDataSource>\\n' % fn)\n",
    "        fn_vrt.write('\\t\\t<GeometryType>wkbPoint</GeometryType>\\n')\n",
    "        fn_vrt.write('\\t\\t<GeometryField encoding=\"PointFromColumns\" x=\"longitude\" y=\"latitude\" z=\"Concentration\"/>\\n')\n",
    "        fn_vrt.write('\\t</OGRVRTLayer>\\n')\n",
    "        fn_vrt.write('</OGRVRTDataSource>\\n')\n",
    "\n",
    "    gdal_cmd = 'gdal_grid -a invdist:power=2.0:smoothing=1.0 -zfield \"Concentration\" -of GTiff -ot Float64 -l %s %s %s' % (lyr_name, vrt_fn, out_tif)\n",
    "\n",
    "    subprocess.call(gdal_cmd, shell=True)"
   ]
  },
  {
   "cell_type": "code",
   "execution_count": 110,
   "id": "676a824b",
   "metadata": {},
   "outputs": [],
   "source": [
    "rainfall_15 = rasterio.open(dir_with_csvs + \"/geo_rainfall_15.tif\")"
   ]
  },
  {
   "cell_type": "code",
   "execution_count": 113,
   "id": "983edff5",
   "metadata": {},
   "outputs": [
    {
     "data": {
      "text/plain": [
       "<open DatasetReader name='C:/Users/mliu11/Box/Spring 2022/ACE592SAE/Project data/csvdata/geo_rainfall_15.tif' mode='r'>"
      ]
     },
     "execution_count": 113,
     "metadata": {},
     "output_type": "execute_result"
    }
   ],
   "source": [
    "rainfall_15"
   ]
  },
  {
   "cell_type": "code",
   "execution_count": 115,
   "id": "796fd9f3",
   "metadata": {},
   "outputs": [
    {
     "data": {
      "text/plain": [
       "<Geographic 2D CRS: EPSG:4326>\n",
       "Name: WGS 84\n",
       "Axis Info [ellipsoidal]:\n",
       "- Lat[north]: Geodetic latitude (degree)\n",
       "- Lon[east]: Geodetic longitude (degree)\n",
       "Area of Use:\n",
       "- name: World\n",
       "- bounds: (-180.0, -90.0, 180.0, 90.0)\n",
       "Datum: World Geodetic System 1984\n",
       "- Ellipsoid: WGS 84\n",
       "- Prime Meridian: Greenwich"
      ]
     },
     "execution_count": 115,
     "metadata": {},
     "output_type": "execute_result"
    }
   ],
   "source": [
    "hh_shp.crs"
   ]
  },
  {
   "cell_type": "code",
   "execution_count": 111,
   "id": "6b02e30f",
   "metadata": {},
   "outputs": [
    {
     "data": {
      "text/plain": [
       "False"
      ]
     },
     "execution_count": 111,
     "metadata": {},
     "output_type": "execute_result"
    }
   ],
   "source": [
    "rainfall_15.crs == hh_shp.crs"
   ]
  },
  {
   "cell_type": "code",
   "execution_count": 112,
   "id": "56e3ea1c",
   "metadata": {},
   "outputs": [
    {
     "ename": "AttributeError",
     "evalue": "'DatasetReader' object has no attribute 'to_crs'",
     "output_type": "error",
     "traceback": [
      "\u001b[1;31m---------------------------------------------------------------------------\u001b[0m",
      "\u001b[1;31mAttributeError\u001b[0m                            Traceback (most recent call last)",
      "\u001b[1;32m~\\AppData\\Local\\Temp\\ipykernel_27028\\2406908128.py\u001b[0m in \u001b[0;36m<module>\u001b[1;34m\u001b[0m\n\u001b[1;32m----> 1\u001b[1;33m \u001b[0mrainfall_15_proj\u001b[0m \u001b[1;33m=\u001b[0m \u001b[0mrainfall_15\u001b[0m\u001b[1;33m.\u001b[0m\u001b[0mto_crs\u001b[0m\u001b[1;33m(\u001b[0m\u001b[0mhh_shp\u001b[0m\u001b[1;33m.\u001b[0m\u001b[0mcrs\u001b[0m\u001b[1;33m)\u001b[0m\u001b[1;33m\u001b[0m\u001b[1;33m\u001b[0m\u001b[0m\n\u001b[0m",
      "\u001b[1;31mAttributeError\u001b[0m: 'DatasetReader' object has no attribute 'to_crs'"
     ]
    }
   ],
   "source": [
    "rainfall_15_proj = rainfall_15.to_crs(hh_shp.crs)"
   ]
  }
 ],
 "metadata": {
  "kernelspec": {
   "display_name": "Python 3 (ipykernel)",
   "language": "python",
   "name": "python3"
  },
  "language_info": {
   "codemirror_mode": {
    "name": "ipython",
    "version": 3
   },
   "file_extension": ".py",
   "mimetype": "text/x-python",
   "name": "python",
   "nbconvert_exporter": "python",
   "pygments_lexer": "ipython3",
   "version": "3.8.5"
  }
 },
 "nbformat": 4,
 "nbformat_minor": 5
}

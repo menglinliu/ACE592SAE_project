{
 "cells": [
  {
   "cell_type": "code",
   "execution_count": 142,
   "metadata": {},
   "outputs": [],
   "source": [
    "import os\n",
    "from netrc import netrc\n",
    "from subprocess import Popen\n",
    "from getpass import getpass\n",
    "import os\n",
    "import urllib\n",
    "import urllib3\n",
    "import requests\n",
    "from bs4 import BeautifulSoup\n",
    "urllib3.disable_warnings()"
   ]
  },
  {
   "cell_type": "code",
   "execution_count": 129,
   "metadata": {},
   "outputs": [],
   "source": [
    "def LinkFromURL(url):\n",
    "    '''\n",
    "    Returns all hyperlinks in the URL.\n",
    "    '''\n",
    "    # Retreive links in tahe URL path\n",
    "    urlpath = urllib.request.urlopen(url)\n",
    "    html_doc = urlpath.read().decode('utf-8')\n",
    "    # BeautifulSoup object\n",
    "    soup = BeautifulSoup(html_doc, 'html.parser')\n",
    "    # Make a list of hyerlinks\n",
    "    links = []\n",
    "    for link in soup.find_all('a'):\n",
    "        links.append(link.get('href'))\n",
    "    links.pop(0)     # Remove the parent link        \n",
    "    return links"
   ]
  },
  {
   "cell_type": "code",
   "execution_count": null,
   "metadata": {},
   "outputs": [],
   "source": [
    "\"\"\"\n",
    "In order to download data via command line, you need to set your NASA Earthdata account in the server.\n",
    "Please check: https://git.earthdata.nasa.gov/projects/LPDUR/repos/daac_data_download_python/browse\n",
    "You need to set a .netrc in your home directory.\n",
    "The file should read as:\n",
    "\n",
    "machine urs.earthdata.nasa.gov\n",
    "login <USERNAME>\n",
    "password <PASSWORD>\n",
    "\"\"\""
   ]
  },
  {
   "cell_type": "code",
   "execution_count": 130,
   "metadata": {},
   "outputs": [],
   "source": [
    "# *** Local filename to store ***\n",
    "saveDir = '/home/rgreen/FoodMarkets/Data/'"
   ]
  },
  {
   "cell_type": "code",
   "execution_count": 131,
   "metadata": {},
   "outputs": [],
   "source": [
    "\n",
    "# (source: https://git.earthdata.nasa.gov/projects/LPDUR/repos/daac_data_download_python/browse/DAACDataDownload.py)\n",
    "# -----------------------------------AUTHENTICATION CONFIGURATION-------------------------------- #\n",
    "urs = 'urs.earthdata.nasa.gov'    # Earthdata URL to call for authentication\n",
    "prompts = ['Enter USERNAME',\n",
    "           'Enter PASSWORD']\n"
   ]
  },
  {
   "cell_type": "code",
   "execution_count": 143,
   "metadata": {},
   "outputs": [],
   "source": [
    "# Determine if netrc file exists, and if so, if it includes NASA Earthdata Login Credentials\n",
    "try:\n",
    "    # *** Please replace .netrc file below ***\n",
    "    netrcDir = os.path.expanduser(\"/home/rgreen/.netrc\")\n",
    "    netrc(netrcDir).authenticators(urs)[0]\n",
    "\n",
    "# Below, create a netrc file and prompt user for NASA Earthdata Login Username and Password\n",
    "except FileNotFoundError:\n",
    "    homeDir = os.path.expanduser(\"~\")\n",
    "    Popen('touch {0}.netrc | chmod og-rw {0}.netrc | echo machine {1} >> {0}.netrc'.format(homeDir + os.sep, urs), shell=True)\n",
    "    Popen('echo login {} >> {}.netrc'.format(getpass(prompt=prompts[0]), homeDir + os.sep), shell=True)\n",
    "    Popen('echo password {} >> {}.netrc'.format(getpass(prompt=prompts[1]), homeDir + os.sep), shell=True)\n",
    "\n",
    "# Determine OS and edit netrc file if it exists but is not set up for NASA Earthdata Login\n",
    "except TypeError:\n",
    "    homeDir = os.path.expanduser(\"~\")\n",
    "    Popen('echo machine {1} >> {0}.netrc'.format(homeDir + os.sep, urs), shell=True)\n",
    "    Popen('echo login {} >> {}.netrc'.format(getpass(prompt=prompts[0]), homeDir + os.sep), shell=True)\n",
    "    Popen('echo password {} >> {}.netrc'.format(getpass(prompt=prompts[1]), homeDir + os.sep), shell=True)\n"
   ]
  },
  {
   "cell_type": "code",
   "execution_count": 144,
   "metadata": {},
   "outputs": [],
   "source": [
    "# Sub directories\n",
    "url = 'https://e4ftl01.cr.usgs.gov/MOLA/MYD11C1.006/'\n",
    "url_sub = LinkFromURL(url)\n",
    "url_sub = [t for t in url_sub if t.startswith('20')]\n",
    "# URL format\n",
    "url_sub = [url+t for t in url_sub]"
   ]
  },
  {
   "cell_type": "code",
   "execution_count": null,
   "metadata": {},
   "outputs": [],
   "source": [
    "\"\"\"\n",
    "Make sure you have enough space on your disk before running below!\n",
    "It will print out the file names as it proceeds\n",
    "\"\"\""
   ]
  },
  {
   "cell_type": "code",
   "execution_count": null,
   "metadata": {},
   "outputs": [],
   "source": [
    "# Download an existing HDF4 file in each sub directory\n",
    "# (source: https://git.earthdata.nasa.gov/projects/LPDUR/repos/daac_data_download_python/browse/DAACDataDownload.py)\n",
    "for sub in url_sub:\n",
    "    if not os.path.exists(saveDir):\n",
    "        os.makedirs(saveDir)\n",
    "    fn_hdf = [t for t in LinkFromURL(sub) if t.endswith('.hdf')]\n",
    "    # Continue if no hdf file\n",
    "    if len(fn_hdf) == 0: continue\n",
    "    f = sub + fn_hdf[0]\n",
    "    saveName = os.path.join(saveDir, f.split('/')[-1].strip())\n",
    "    # Continue if a file exists\n",
    "    if os.path.exists(saveName): continue\n",
    "    \n",
    "    # Create and submit request and download file\n",
    "    with requests.get(f.strip(), verify=False, stream=True, auth=(netrc(netrcDir).authenticators(urs)[0], netrc(netrcDir).authenticators(urs)[2])) as response:\n",
    "        if response.status_code != 200:\n",
    "            print(\"{} not downloaded. Verify that your username and password are correct in {}\".format(f.split('/')[-1].strip(), netrcDir))\n",
    "        else:\n",
    "            response.raw.decode_content = True\n",
    "            content = response.raw\n",
    "            with open(saveName, 'wb') as d:\n",
    "                while True:\n",
    "                    chunk = content.read(16 * 1024)\n",
    "                    if not chunk:\n",
    "                        break\n",
    "                    d.write(chunk)\n",
    "            print('Downloaded file: {}'.format(saveName))"
   ]
  },
  {
   "cell_type": "code",
   "execution_count": null,
   "metadata": {},
   "outputs": [],
   "source": []
  }
 ],
 "metadata": {
  "kernelspec": {
   "display_name": "geo",
   "language": "python",
   "name": "geo"
  },
  "language_info": {
   "codemirror_mode": {
    "name": "ipython",
    "version": 3
   },
   "file_extension": ".py",
   "mimetype": "text/x-python",
   "name": "python",
   "nbconvert_exporter": "python",
   "pygments_lexer": "ipython3",
   "version": "3.8.2"
  },
  "toc": {
   "base_numbering": 1,
   "nav_menu": {},
   "number_sections": true,
   "sideBar": true,
   "skip_h1_title": false,
   "title_cell": "Table of Contents",
   "title_sidebar": "Contents",
   "toc_cell": false,
   "toc_position": {},
   "toc_section_display": true,
   "toc_window_display": false
  }
 },
 "nbformat": 4,
 "nbformat_minor": 4
}

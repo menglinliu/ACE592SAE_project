{
 "cells": [
  {
   "cell_type": "code",
   "execution_count": 17,
   "metadata": {},
   "outputs": [],
   "source": [
    "import numpy as np\n",
    "import os\n",
    "import pandas as pd\n",
    "from osgeo import gdal\n",
    "import re\n",
    "import osr"
   ]
  },
  {
   "cell_type": "code",
   "execution_count": 2,
   "metadata": {},
   "outputs": [],
   "source": [
    "lst_hdr_dir = '/home/rgreen/FoodMarkets/Data/'\n",
    "lst_tif_dir =a '/home/rgreen/FoodMarkets/Data/MODIS_LST/'"
   ]
  },
  {
   "cell_type": "code",
   "execution_count": 7,
   "metadata": {},
   "outputs": [],
   "source": [
    "def hdf_to_tif(in_dir, layer, out_dir):\n",
    "    \n",
    "    files=np.array(sorted(os.listdir(in_dir)))\n",
    "    tifs = pd.Series(files).str.endswith('.hdf')\n",
    "    files = files[tifs]\n",
    "    \n",
    "    for filename in files: \n",
    "        #print(filename)\n",
    "        hdf_ds = gdal.Open(in_dir+filename, gdal.GA_ReadOnly)\n",
    "        subdatasets = hdf_ds.GetSubDatasets()\n",
    "        #print(subdatasets)\n",
    "        for i, subds in enumerate(subdatasets):\n",
    "            string = subds[0]\n",
    "            if re.search(layer, string):\n",
    "                string_split = re.split(':', string)[2]\n",
    "                name = string_split[string_split.find('Data/')+5 : string_split.find('.hdf')]\n",
    "                print(name)\n",
    "                band_ds = gdal.Open(string, gdal.GA_ReadOnly)\n",
    "                band_path = os.path.join(out_dir , name + '.tif')\n",
    "                \n",
    "                if band_ds.RasterCount > 1:\n",
    "                    for j in range(1,band_ds.RasterCount + 1):\n",
    "                        band = band_ds.GetRasterBand(j)\n",
    "                        band_array = band.ReadAsArray()\n",
    "\n",
    "                else:\n",
    "                    band_array = band_ds.ReadAsArray()\n",
    "                driver = gdal.GetDriverByName('GTiff')\n",
    "                outRaster = driver.Create(band_path,\n",
    "                                              band_ds.RasterXSize,\n",
    "                                              band_ds.RasterYSize,\n",
    "                                              1,\n",
    "                                              gdal.GDT_Int16,\n",
    "                                              ['COMPRESS=LZW', 'TILED=YES'])\n",
    "                outRaster.SetGeoTransform(band_ds.GetGeoTransform())\n",
    "                outRasterSRS = osr.SpatialReference()\n",
    "                outRasterSRS.ImportFromEPSG(4326)\n",
    "                outRaster.SetProjection(outRasterSRS.ExportToWkt())\n",
    "                outRaster.GetRasterBand(1).WriteArray(band_array)\n",
    "                "
   ]
  },
  {
   "cell_type": "code",
   "execution_count": null,
   "metadata": {},
   "outputs": [],
   "source": [
    "hdf_to_tif(lst_hdr_dir, 'LST_Day_CMG', lst_tif_dir)"
   ]
  },
  {
   "cell_type": "code",
   "execution_count": null,
   "metadata": {},
   "outputs": [],
   "source": []
  }
 ],
 "metadata": {
  "kernelspec": {
   "display_name": "geo",
   "language": "python",
   "name": "geo"
  },
  "language_info": {
   "codemirror_mode": {
    "name": "ipython",
    "version": 3
   },
   "file_extension": ".py",
   "mimetype": "text/x-python",
   "name": "python",
   "nbconvert_exporter": "python",
   "pygments_lexer": "ipython3",
   "version": "3.8.2"
  },
  "toc": {
   "base_numbering": 1,
   "nav_menu": {},
   "number_sections": true,
   "sideBar": true,
   "skip_h1_title": false,
   "title_cell": "Table of Contents",
   "title_sidebar": "Contents",
   "toc_cell": false,
   "toc_position": {},
   "toc_section_display": true,
   "toc_window_display": false
  }
 },
 "nbformat": 4,
 "nbformat_minor": 4
}

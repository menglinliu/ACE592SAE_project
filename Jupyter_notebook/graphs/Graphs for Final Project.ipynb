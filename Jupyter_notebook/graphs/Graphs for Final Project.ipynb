{
 "cells": [
  {
   "cell_type": "code",
   "execution_count": 1,
   "id": "9ce27969",
   "metadata": {},
   "outputs": [],
   "source": [
    "import pandas as pd\n",
    "import matplotlib.pyplot as plt\n",
    "import numpy as np\n",
    "\n"
   ]
  },
  {
   "cell_type": "code",
   "execution_count": 2,
   "id": "be931463",
   "metadata": {},
   "outputs": [],
   "source": [
    "#read the deforestation CSV file into a dataframe\n",
    "df = pd.read_csv('deforestation_household_1km_buffer.csv')\n"
   ]
  },
  {
   "cell_type": "code",
   "execution_count": 3,
   "id": "099159ad",
   "metadata": {},
   "outputs": [],
   "source": [
    "#Aggregate the household deforestation by year\n",
    "deforest = df.groupby('year').sum('deforstation_area_km_squared')\n",
    "deforest = deforest.drop(deforest.index[0:13])"
   ]
  },
  {
   "cell_type": "code",
   "execution_count": 4,
   "id": "0c288892",
   "metadata": {},
   "outputs": [
    {
     "data": {
      "text/html": [
       "<div>\n",
       "<style scoped>\n",
       "    .dataframe tbody tr th:only-of-type {\n",
       "        vertical-align: middle;\n",
       "    }\n",
       "\n",
       "    .dataframe tbody tr th {\n",
       "        vertical-align: top;\n",
       "    }\n",
       "\n",
       "    .dataframe thead th {\n",
       "        text-align: right;\n",
       "    }\n",
       "</style>\n",
       "<table border=\"1\" class=\"dataframe\">\n",
       "  <thead>\n",
       "    <tr style=\"text-align: right;\">\n",
       "      <th></th>\n",
       "      <th>HHID</th>\n",
       "      <th>FID</th>\n",
       "      <th>deforestation_area_km_squared</th>\n",
       "    </tr>\n",
       "    <tr>\n",
       "      <th>year</th>\n",
       "      <th></th>\n",
       "      <th></th>\n",
       "      <th></th>\n",
       "    </tr>\n",
       "  </thead>\n",
       "  <tbody>\n",
       "    <tr>\n",
       "      <th>2014</th>\n",
       "      <td>512439449258</td>\n",
       "      <td>1015669</td>\n",
       "      <td>26.3430</td>\n",
       "    </tr>\n",
       "    <tr>\n",
       "      <th>2015</th>\n",
       "      <td>512439449258</td>\n",
       "      <td>1015669</td>\n",
       "      <td>9.9369</td>\n",
       "    </tr>\n",
       "    <tr>\n",
       "      <th>2016</th>\n",
       "      <td>512439449258</td>\n",
       "      <td>1015669</td>\n",
       "      <td>18.8307</td>\n",
       "    </tr>\n",
       "    <tr>\n",
       "      <th>2017</th>\n",
       "      <td>512439449258</td>\n",
       "      <td>1015669</td>\n",
       "      <td>24.7977</td>\n",
       "    </tr>\n",
       "    <tr>\n",
       "      <th>2018</th>\n",
       "      <td>512439449258</td>\n",
       "      <td>1015669</td>\n",
       "      <td>14.4621</td>\n",
       "    </tr>\n",
       "    <tr>\n",
       "      <th>2019</th>\n",
       "      <td>512439449258</td>\n",
       "      <td>1015669</td>\n",
       "      <td>16.8525</td>\n",
       "    </tr>\n",
       "  </tbody>\n",
       "</table>\n",
       "</div>"
      ],
      "text/plain": [
       "              HHID      FID  deforestation_area_km_squared\n",
       "year                                                      \n",
       "2014  512439449258  1015669                        26.3430\n",
       "2015  512439449258  1015669                         9.9369\n",
       "2016  512439449258  1015669                        18.8307\n",
       "2017  512439449258  1015669                        24.7977\n",
       "2018  512439449258  1015669                        14.4621\n",
       "2019  512439449258  1015669                        16.8525"
      ]
     },
     "execution_count": 4,
     "metadata": {},
     "output_type": "execute_result"
    }
   ],
   "source": [
    "deforest.head(6)"
   ]
  },
  {
   "cell_type": "code",
   "execution_count": 6,
   "id": "475f7656",
   "metadata": {},
   "outputs": [
    {
     "data": {
      "text/plain": [
       "Text(0, 0.5, 'Deforestation Area, km²')"
      ]
     },
     "execution_count": 6,
     "metadata": {},
     "output_type": "execute_result"
    },
    {
     "data": {
      "image/png": "[encoded data removed]",
      "text/plain": [
       "<Figure size 432x288 with 1 Axes>"
      ]
     },
     "metadata": {
      "needs_background": "light"
     },
     "output_type": "display_data"
    }
   ],
   "source": [
    "#I had an error when I tried to use year so that is why I had to code it this way\n",
    "#Create bar chart of the deforestation area for the dataset\n",
    "ax=deforest.plot.bar(x='HHID',y='deforestation_area_km_squared', legend=False, title='Deforestation Area by Year for Zambia Dataset, 2014-2019', color='forestgreen')\n",
    "ax.set_xticklabels([2014, 2015, 2016, 2017, 2018, 2019], rotation=0)\n",
    "ax.set_xlabel(\"Year\")\n",
    "ax.set_ylabel(\"Deforestation Area, km²\")\n"
   ]
  },
  {
   "cell_type": "code",
   "execution_count": 12,
   "id": "da414348",
   "metadata": {},
   "outputs": [],
   "source": [
    "#Read in the rainfall and temperature data\n",
    "\n",
    "df_rain = pd.read_csv('Rainfall Data.csv')\n",
    "df_temp = pd.read_csv('Temperature data.csv')"
   ]
  },
  {
   "cell_type": "code",
   "execution_count": 13,
   "id": "a2ed75f6",
   "metadata": {},
   "outputs": [],
   "source": [
    "#Aggreate household rainfall by year \n",
    "df_rain = df_rain.groupby('year').sum('total rain')\n",
    "df_rain.head()\n",
    "\n",
    "#I had problems when using the year so I had to do this\n",
    "year = [2015, 2016, 2017, 2018, 2019]\n",
    "df_rain['Year'] = year\n",
    "\n"
   ]
  },
  {
   "cell_type": "code",
   "execution_count": 14,
   "id": "34ff5b40",
   "metadata": {},
   "outputs": [],
   "source": [
    "#Find average temperature for each year\n",
    "df_temp = df_temp.groupby('year').mean('temperature')\n",
    "df_temp.head()\n",
    "\n",
    "#Again I had problems with the year so I had to do this\n",
    "year = [2015, 2016, 2017, 2018, 2019]\n",
    "df_temp['Year'] = year"
   ]
  },
  {
   "cell_type": "code",
   "execution_count": 15,
   "id": "b43fc2c6",
   "metadata": {},
   "outputs": [
    {
     "data": {
      "text/html": [
       "<div>\n",
       "<style scoped>\n",
       "    .dataframe tbody tr th:only-of-type {\n",
       "        vertical-align: middle;\n",
       "    }\n",
       "\n",
       "    .dataframe tbody tr th {\n",
       "        vertical-align: top;\n",
       "    }\n",
       "\n",
       "    .dataframe thead th {\n",
       "        text-align: right;\n",
       "    }\n",
       "</style>\n",
       "<table border=\"1\" class=\"dataframe\">\n",
       "  <thead>\n",
       "    <tr style=\"text-align: right;\">\n",
       "      <th></th>\n",
       "      <th>HHID_x</th>\n",
       "      <th>totalrain</th>\n",
       "      <th>Year</th>\n",
       "      <th>HHID_y</th>\n",
       "      <th>temperature</th>\n",
       "    </tr>\n",
       "  </thead>\n",
       "  <tbody>\n",
       "    <tr>\n",
       "      <th>0</th>\n",
       "      <td>5.179363e+11</td>\n",
       "      <td>1.228870e+06</td>\n",
       "      <td>2015</td>\n",
       "      <td>3.774599e+07</td>\n",
       "      <td>34.672565</td>\n",
       "    </tr>\n",
       "    <tr>\n",
       "      <th>1</th>\n",
       "      <td>5.179363e+11</td>\n",
       "      <td>1.365846e+06</td>\n",
       "      <td>2016</td>\n",
       "      <td>3.774599e+07</td>\n",
       "      <td>35.207972</td>\n",
       "    </tr>\n",
       "    <tr>\n",
       "      <th>2</th>\n",
       "      <td>5.179363e+11</td>\n",
       "      <td>1.711534e+06</td>\n",
       "      <td>2017</td>\n",
       "      <td>3.774599e+07</td>\n",
       "      <td>33.466137</td>\n",
       "    </tr>\n",
       "    <tr>\n",
       "      <th>3</th>\n",
       "      <td>5.179363e+11</td>\n",
       "      <td>1.352758e+06</td>\n",
       "      <td>2018</td>\n",
       "      <td>3.774599e+07</td>\n",
       "      <td>34.317042</td>\n",
       "    </tr>\n",
       "    <tr>\n",
       "      <th>4</th>\n",
       "      <td>5.179363e+11</td>\n",
       "      <td>1.146859e+06</td>\n",
       "      <td>2019</td>\n",
       "      <td>3.774599e+07</td>\n",
       "      <td>35.397848</td>\n",
       "    </tr>\n",
       "  </tbody>\n",
       "</table>\n",
       "</div>"
      ],
      "text/plain": [
       "         HHID_x     totalrain  Year        HHID_y  temperature\n",
       "0  5.179363e+11  1.228870e+06  2015  3.774599e+07    34.672565\n",
       "1  5.179363e+11  1.365846e+06  2016  3.774599e+07    35.207972\n",
       "2  5.179363e+11  1.711534e+06  2017  3.774599e+07    33.466137\n",
       "3  5.179363e+11  1.352758e+06  2018  3.774599e+07    34.317042\n",
       "4  5.179363e+11  1.146859e+06  2019  3.774599e+07    35.397848"
      ]
     },
     "execution_count": 15,
     "metadata": {},
     "output_type": "execute_result"
    }
   ],
   "source": [
    "#Combine data into one dataframe so I can plot it\n",
    "df_combined = df_rain.merge(df_temp, on='Year')\n",
    "df_combined.head()"
   ]
  },
  {
   "cell_type": "code",
   "execution_count": 16,
   "id": "4ecb95a6",
   "metadata": {},
   "outputs": [
    {
     "data": {
      "image/png": "[encoded data removed]",
      "text/plain": [
       "<Figure size 432x288 with 2 Axes>"
      ]
     },
     "metadata": {
      "needs_background": "light"
     },
     "output_type": "display_data"
    }
   ],
   "source": [
    "from textwrap import wrap\n",
    "from matplotlib.pyplot import figure\n",
    "import matplotlib as mpl\n",
    "\n",
    "\n",
    "#Put a bar chart of rainfall and line chart of temperature on the same plot\n",
    "ax=df_combined[['totalrain']].plot(kind='bar', xlabel='Year', ylabel='Total Rainfall, mm', color='steelblue')\n",
    "plt.ylim(0,2000000)\n",
    "ax.legend(['Rain'])\n",
    "\n",
    "ax=df_combined['temperature'].plot(secondary_y=True, color='darkorange', linewidth=3)\n",
    "plt.ylim(30,38)\n",
    "\n",
    "ax.set_xticklabels([2015, 2016, 2017, 2018, 2019])\n",
    "ax.set_ylabel(\"Average Temperature, °C\")\n",
    "\n",
    "#I had some problems with the title overlapping the scientific notation symbol so I had to do this\n",
    "title = ax.set_title(\"\\n\".join(wrap(\"Total Rainfall and Average Temperature in Zambia Dataset, 2015-2019\", 60)))\n",
    "\n",
    "title.set_y(1.05)\n",
    "\n",
    "ax.legend(['Temperature'], loc=(0.7,0.8))\n",
    "\n",
    "plt.savefig('Rainandtemp.png')\n",
    "\n",
    "#Some things I tried before that didn't work\n",
    "#df_combined.plot(use_index=True,x='Year',y='temperature',secondary_y=True, ax=ax, color='orange')\n",
    "#df_combined.plot(use_index=True, x='Year',y='totalrain',kind='bar', ax=ax)\n",
    "\n",
    "\n",
    "#ax=df_rain.plot.bar(x='HHID',y='totalrain', legend=False, title='Rainfall and Temperature for Zambia Dataset, 2015-2019', color='deepskyblue')\n",
    "#ax.set_xticklabels([2015, 2016, 2017, 2018, 2019])\n",
    "#ax.set_xlabel(\"Year\")\n",
    "\n",
    "#ax=df_temp.plot(x='Year', y='temperature',secondary_y=True)\n"
   ]
  },
  {
   "cell_type": "code",
   "execution_count": null,
   "id": "a6f6c71c",
   "metadata": {},
   "outputs": [],
   "source": []
  },
  {
   "cell_type": "code",
   "execution_count": null,
   "id": "aa0e9089",
   "metadata": {},
   "outputs": [],
   "source": []
  }
 ],
 "metadata": {
  "kernelspec": {
   "display_name": "Python 3 (ipykernel)",
   "language": "python",
   "name": "python3"
  },
  "language_info": {
   "codemirror_mode": {
    "name": "ipython",
    "version": 3
   },
   "file_extension": ".py",
   "mimetype": "text/x-python",
   "name": "python",
   "nbconvert_exporter": "python",
   "pygments_lexer": "ipython3",
   "version": "3.9.7"
  }
 },
 "nbformat": 4,
 "nbformat_minor": 5
}
